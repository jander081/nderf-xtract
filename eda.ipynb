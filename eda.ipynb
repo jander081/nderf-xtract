{
 "cells": [
  {
   "cell_type": "code",
   "execution_count": null,
   "id": "d063da5d",
   "metadata": {},
   "outputs": [],
   "source": []
  }
 ],
 "metadata": {
  "kernelspec": {
   "display_name": "ML",
   "language": "python",
   "name": "python3"
  },
  "language_info": {
   "name": "python",
   "version": "3.12.4"
  }
 },
 "nbformat": 4,
 "nbformat_minor": 5
}
