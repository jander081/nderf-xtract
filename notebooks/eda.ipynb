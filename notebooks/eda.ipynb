{
 "cells": [
  {
   "cell_type": "code",
   "execution_count": null,
   "id": "d063da5d",
   "metadata": {},
   "outputs": [
    {
     "name": "stdout",
     "output_type": "stream",
     "text": [
      "Loaded 35 files. Sample keys: ['9631.txt', '33015.txt', '9208.txt']\n",
      "\n",
      "Sample text:\n",
      " Sarah W NDE\n",
      "Classification : NDE   |   NDERF Experience : 9631\n",
      "Experience Description\n",
      "My NDE happened over 30 years ago. It was a crazy traumatic event that led up to it and telling people would have brought a lot of judgement down on me and my family. I was 15 at the time and in no way capable of handling that kind of exposure. So, I told no one except my mom, sister, and later my husband. For many years I intentionally avoided anything to do with NDEs out in the world. I just took the lessons \n"
     ]
    }
   ],
   "source": [
    "import os\n",
    "\n",
    "def load_nde_files(data_dir='../data/raw'):\n",
    "    nde_texts = {}\n",
    "    for fname in os.listdir(data_dir):\n",
    "        if fname.endswith('.txt'):\n",
    "            with open(os.path.join(data_dir, fname), 'r', encoding='utf-8') as f:\n",
    "                nde_texts[fname] = f.read()\n",
    "    return nde_texts\n",
    "\n",
    "# if __name__ == '__main__':\n",
    "texts = load_nde_files()\n",
    "print(f\"Loaded {len(texts)} files. Sample keys: {list(texts.keys())[:3]}\")\n",
    "print(\"\\nSample text:\\n\", texts[list(texts.keys())[0]][:500])  # Show first 500 chars of one"
   ]
  },
  {
   "cell_type": "code",
   "execution_count": 10,
   "id": "04a60cf2",
   "metadata": {},
   "outputs": [
    {
     "data": {
      "text/plain": [
       "'Sarah W NDE\\nClassification : NDE   |   NDERF Experience : 9631\\nExperience Description\\nMy NDE happened over 30 years ago. It was a crazy traumatic event that led up to it and telling people would have '"
      ]
     },
     "execution_count": 10,
     "metadata": {},
     "output_type": "execute_result"
    }
   ],
   "source": [
    "len(texts.keys())\n",
    "texts[\"9631.txt\"][:200]"
   ]
  },
  {
   "cell_type": "code",
   "execution_count": null,
   "id": "8f3c8688",
   "metadata": {},
   "outputs": [],
   "source": []
  }
 ],
 "metadata": {
  "kernelspec": {
   "display_name": "Python (nderf_xtract)",
   "language": "python",
   "name": "ndrfxtract"
  },
  "language_info": {
   "codemirror_mode": {
    "name": "ipython",
    "version": 3
   },
   "file_extension": ".py",
   "mimetype": "text/x-python",
   "name": "python",
   "nbconvert_exporter": "python",
   "pygments_lexer": "ipython3",
   "version": "3.10.18"
  }
 },
 "nbformat": 4,
 "nbformat_minor": 5
}
